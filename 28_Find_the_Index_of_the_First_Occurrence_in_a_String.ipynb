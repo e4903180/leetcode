{
 "cells": [
  {
   "cell_type": "code",
   "execution_count": 42,
   "id": "4964b808",
   "metadata": {},
   "outputs": [],
   "source": [
    "haystack = \"ABABDABACDABABCABABAD\"\n",
    "needle = \"ABABCABABAD\""
   ]
  },
  {
   "cell_type": "code",
   "execution_count": 43,
   "id": "8d5933e3",
   "metadata": {},
   "outputs": [],
   "source": [
    "filter = [0]*len(needle)"
   ]
  },
  {
   "cell_type": "code",
   "execution_count": 44,
   "id": "3f9d271f",
   "metadata": {},
   "outputs": [
    {
     "data": {
      "text/plain": [
       "[0, 0, 0, 0, 0, 0, 0, 0, 0, 0, 0]"
      ]
     },
     "execution_count": 44,
     "metadata": {},
     "output_type": "execute_result"
    }
   ],
   "source": [
    "filter"
   ]
  },
  {
   "cell_type": "code",
   "execution_count": 45,
   "id": "1c87692d",
   "metadata": {},
   "outputs": [],
   "source": [
    "def computeLPS(needle):\n",
    "    i=1\n",
    "    j=0\n",
    "    while i<len(filter):\n",
    "        print(f\"i={i}({needle[i]}), j={j}({needle[j]}), filter={filter}\")\n",
    "        # If characters match, we can extend the prefix\n",
    "        if needle[i] == needle[j]:\n",
    "            filter[i] = j+1\n",
    "            i+=1\n",
    "            j+=1\n",
    "            print(\"filter[i] = j+1\")\n",
    "            print(f\"i={i}({needle[i]}), j={j}({needle[j]}), filter={filter}\")\n",
    "        else:\n",
    "            if j>0:\n",
    "                j=filter[j-1]\n",
    "                print(\"if j>0:\")\n",
    "                print(f\"j = filter[j-1] = {j} = filter[{j-1}] = {filter[j-1]}\")\n",
    "                print(\"{j} = filter[j-1]\")\n",
    "                print(f\"i={i}({needle[i]}), j={j}({needle[j]}), filter={filter}\")\n",
    "            else:\n",
    "                print(\"else:\")\n",
    "                filter[i]=0\n",
    "                i+=1\n",
    "                print(f\"i={i}, j={j}, filter={filter}\")\n",
    "    return filter"
   ]
  },
  {
   "cell_type": "code",
   "execution_count": 46,
   "id": "5f7ab122",
   "metadata": {},
   "outputs": [
    {
     "name": "stdout",
     "output_type": "stream",
     "text": [
      "i=1(B), j=0(A), filter=[0, 0, 0, 0, 0, 0, 0, 0, 0, 0, 0]\n",
      "else:\n",
      "i=2, j=0, filter=[0, 0, 0, 0, 0, 0, 0, 0, 0, 0, 0]\n",
      "i=2(A), j=0(A), filter=[0, 0, 0, 0, 0, 0, 0, 0, 0, 0, 0]\n",
      "filter[i] = j+1\n",
      "i=3(B), j=1(B), filter=[0, 0, 1, 0, 0, 0, 0, 0, 0, 0, 0]\n",
      "i=3(B), j=1(B), filter=[0, 0, 1, 0, 0, 0, 0, 0, 0, 0, 0]\n",
      "filter[i] = j+1\n",
      "i=4(C), j=2(A), filter=[0, 0, 1, 2, 0, 0, 0, 0, 0, 0, 0]\n",
      "i=4(C), j=2(A), filter=[0, 0, 1, 2, 0, 0, 0, 0, 0, 0, 0]\n",
      "if j>0:\n",
      "j = filter[j-1] = 0 = filter[-1] = 0\n",
      "{j} = filter[j-1]\n",
      "i=4(C), j=0(A), filter=[0, 0, 1, 2, 0, 0, 0, 0, 0, 0, 0]\n",
      "i=4(C), j=0(A), filter=[0, 0, 1, 2, 0, 0, 0, 0, 0, 0, 0]\n",
      "else:\n",
      "i=5, j=0, filter=[0, 0, 1, 2, 0, 0, 0, 0, 0, 0, 0]\n",
      "i=5(A), j=0(A), filter=[0, 0, 1, 2, 0, 0, 0, 0, 0, 0, 0]\n",
      "filter[i] = j+1\n",
      "i=6(B), j=1(B), filter=[0, 0, 1, 2, 0, 1, 0, 0, 0, 0, 0]\n",
      "i=6(B), j=1(B), filter=[0, 0, 1, 2, 0, 1, 0, 0, 0, 0, 0]\n",
      "filter[i] = j+1\n",
      "i=7(A), j=2(A), filter=[0, 0, 1, 2, 0, 1, 2, 0, 0, 0, 0]\n",
      "i=7(A), j=2(A), filter=[0, 0, 1, 2, 0, 1, 2, 0, 0, 0, 0]\n",
      "filter[i] = j+1\n",
      "i=8(B), j=3(B), filter=[0, 0, 1, 2, 0, 1, 2, 3, 0, 0, 0]\n",
      "i=8(B), j=3(B), filter=[0, 0, 1, 2, 0, 1, 2, 3, 0, 0, 0]\n",
      "filter[i] = j+1\n",
      "i=9(A), j=4(C), filter=[0, 0, 1, 2, 0, 1, 2, 3, 4, 0, 0]\n",
      "i=9(A), j=4(C), filter=[0, 0, 1, 2, 0, 1, 2, 3, 4, 0, 0]\n",
      "if j>0:\n",
      "j = filter[j-1] = 2 = filter[1] = 0\n",
      "{j} = filter[j-1]\n",
      "i=9(A), j=2(A), filter=[0, 0, 1, 2, 0, 1, 2, 3, 4, 0, 0]\n",
      "i=9(A), j=2(A), filter=[0, 0, 1, 2, 0, 1, 2, 3, 4, 0, 0]\n",
      "filter[i] = j+1\n",
      "i=10(D), j=3(B), filter=[0, 0, 1, 2, 0, 1, 2, 3, 4, 3, 0]\n",
      "i=10(D), j=3(B), filter=[0, 0, 1, 2, 0, 1, 2, 3, 4, 3, 0]\n",
      "if j>0:\n",
      "j = filter[j-1] = 1 = filter[0] = 0\n",
      "{j} = filter[j-1]\n",
      "i=10(D), j=1(B), filter=[0, 0, 1, 2, 0, 1, 2, 3, 4, 3, 0]\n",
      "i=10(D), j=1(B), filter=[0, 0, 1, 2, 0, 1, 2, 3, 4, 3, 0]\n",
      "if j>0:\n",
      "j = filter[j-1] = 0 = filter[-1] = 0\n",
      "{j} = filter[j-1]\n",
      "i=10(D), j=0(A), filter=[0, 0, 1, 2, 0, 1, 2, 3, 4, 3, 0]\n",
      "i=10(D), j=0(A), filter=[0, 0, 1, 2, 0, 1, 2, 3, 4, 3, 0]\n",
      "else:\n",
      "i=11, j=0, filter=[0, 0, 1, 2, 0, 1, 2, 3, 4, 3, 0]\n"
     ]
    },
    {
     "data": {
      "text/plain": [
       "[0, 0, 1, 2, 0, 1, 2, 3, 4, 3, 0]"
      ]
     },
     "execution_count": 46,
     "metadata": {},
     "output_type": "execute_result"
    }
   ],
   "source": [
    "filter = computeLPS(needle)\n",
    "filter"
   ]
  },
  {
   "cell_type": "code",
   "execution_count": 47,
   "id": "1f614b9b",
   "metadata": {},
   "outputs": [
    {
     "name": "stdout",
     "output_type": "stream",
     "text": [
      "i=1(B), j=0(A), filter=[0, 0, 1, 2, 0, 1, 2, 3, 4, 3, 0]\n",
      "else:\n",
      "i=2, j=0, filter=[0, 0, 1, 2, 0, 1, 2, 3, 4, 3, 0]\n",
      "i=2(A), j=0(A), filter=[0, 0, 1, 2, 0, 1, 2, 3, 4, 3, 0]\n",
      "filter[i] = j+1\n",
      "i=3(B), j=1(B), filter=[0, 0, 1, 2, 0, 1, 2, 3, 4, 3, 0]\n",
      "i=3(B), j=1(B), filter=[0, 0, 1, 2, 0, 1, 2, 3, 4, 3, 0]\n",
      "filter[i] = j+1\n",
      "i=4(C), j=2(A), filter=[0, 0, 1, 2, 0, 1, 2, 3, 4, 3, 0]\n",
      "i=4(C), j=2(A), filter=[0, 0, 1, 2, 0, 1, 2, 3, 4, 3, 0]\n",
      "if j>0:\n",
      "j = filter[j-1] = 0 = filter[-1] = 0\n",
      "{j} = filter[j-1]\n",
      "i=4(C), j=0(A), filter=[0, 0, 1, 2, 0, 1, 2, 3, 4, 3, 0]\n",
      "i=4(C), j=0(A), filter=[0, 0, 1, 2, 0, 1, 2, 3, 4, 3, 0]\n",
      "else:\n",
      "i=5, j=0, filter=[0, 0, 1, 2, 0, 1, 2, 3, 4, 3, 0]\n",
      "i=5(A), j=0(A), filter=[0, 0, 1, 2, 0, 1, 2, 3, 4, 3, 0]\n",
      "filter[i] = j+1\n",
      "i=6(B), j=1(B), filter=[0, 0, 1, 2, 0, 1, 2, 3, 4, 3, 0]\n",
      "i=6(B), j=1(B), filter=[0, 0, 1, 2, 0, 1, 2, 3, 4, 3, 0]\n",
      "filter[i] = j+1\n",
      "i=7(A), j=2(A), filter=[0, 0, 1, 2, 0, 1, 2, 3, 4, 3, 0]\n",
      "i=7(A), j=2(A), filter=[0, 0, 1, 2, 0, 1, 2, 3, 4, 3, 0]\n",
      "filter[i] = j+1\n",
      "i=8(B), j=3(B), filter=[0, 0, 1, 2, 0, 1, 2, 3, 4, 3, 0]\n",
      "i=8(B), j=3(B), filter=[0, 0, 1, 2, 0, 1, 2, 3, 4, 3, 0]\n",
      "filter[i] = j+1\n",
      "i=9(A), j=4(C), filter=[0, 0, 1, 2, 0, 1, 2, 3, 4, 3, 0]\n",
      "i=9(A), j=4(C), filter=[0, 0, 1, 2, 0, 1, 2, 3, 4, 3, 0]\n",
      "if j>0:\n",
      "j = filter[j-1] = 2 = filter[1] = 0\n",
      "{j} = filter[j-1]\n",
      "i=9(A), j=2(A), filter=[0, 0, 1, 2, 0, 1, 2, 3, 4, 3, 0]\n",
      "i=9(A), j=2(A), filter=[0, 0, 1, 2, 0, 1, 2, 3, 4, 3, 0]\n",
      "filter[i] = j+1\n",
      "i=10(D), j=3(B), filter=[0, 0, 1, 2, 0, 1, 2, 3, 4, 3, 0]\n",
      "i=10(D), j=3(B), filter=[0, 0, 1, 2, 0, 1, 2, 3, 4, 3, 0]\n",
      "if j>0:\n",
      "j = filter[j-1] = 1 = filter[0] = 0\n",
      "{j} = filter[j-1]\n",
      "i=10(D), j=1(B), filter=[0, 0, 1, 2, 0, 1, 2, 3, 4, 3, 0]\n",
      "i=10(D), j=1(B), filter=[0, 0, 1, 2, 0, 1, 2, 3, 4, 3, 0]\n",
      "if j>0:\n",
      "j = filter[j-1] = 0 = filter[-1] = 0\n",
      "{j} = filter[j-1]\n",
      "i=10(D), j=0(A), filter=[0, 0, 1, 2, 0, 1, 2, 3, 4, 3, 0]\n",
      "i=10(D), j=0(A), filter=[0, 0, 1, 2, 0, 1, 2, 3, 4, 3, 0]\n",
      "else:\n",
      "i=11, j=0, filter=[0, 0, 1, 2, 0, 1, 2, 3, 4, 3, 0]\n",
      "Found 10\n"
     ]
    }
   ],
   "source": [
    "i = j = 0\n",
    "filter = computeLPS(needle)\n",
    "while i < len(haystack):\n",
    "    if haystack[i] == needle[j]:\n",
    "        i+=1\n",
    "        j+=1\n",
    "        if j == len(needle):\n",
    "            print(f'Found {i-j}')\n",
    "            j = filter[j-1]\n",
    "    else:\n",
    "        if j != 0:\n",
    "            j=filter[j-1]\n",
    "        else:\n",
    "            i+=1"
   ]
  },
  {
   "cell_type": "code",
   "execution_count": 58,
   "id": "6f745b5e",
   "metadata": {},
   "outputs": [
    {
     "name": "stdout",
     "output_type": "stream",
     "text": [
      "Final filter: []\n"
     ]
    }
   ],
   "source": [
    "filter = [0, 3, 4, 5, 6, 7, 8, 9, 10] # Manually set the filter for the example\n",
    "filter.clear()\n",
    "print(f\"Final filter: {filter}\")"
   ]
  },
  {
   "cell_type": "code",
   "execution_count": null,
   "id": "5a6cddcb",
   "metadata": {},
   "outputs": [
    {
     "data": {
      "text/plain": [
       "['__add__',\n",
       " '__class__',\n",
       " '__class_getitem__',\n",
       " '__contains__',\n",
       " '__delattr__',\n",
       " '__delitem__',\n",
       " '__dir__',\n",
       " '__doc__',\n",
       " '__eq__',\n",
       " '__format__',\n",
       " '__ge__',\n",
       " '__getattribute__',\n",
       " '__getitem__',\n",
       " '__gt__',\n",
       " '__hash__',\n",
       " '__iadd__',\n",
       " '__imul__',\n",
       " '__init__',\n",
       " '__init_subclass__',\n",
       " '__iter__',\n",
       " '__le__',\n",
       " '__len__',\n",
       " '__lt__',\n",
       " '__mul__',\n",
       " '__ne__',\n",
       " '__new__',\n",
       " '__reduce__',\n",
       " '__reduce_ex__',\n",
       " '__repr__',\n",
       " '__reversed__',\n",
       " '__rmul__',\n",
       " '__setattr__',\n",
       " '__setitem__',\n",
       " '__sizeof__',\n",
       " '__str__',\n",
       " '__subclasshook__',\n",
       " 'append',\n",
       " 'clear',\n",
       " 'copy',\n",
       " 'count',\n",
       " 'extend',\n",
       " 'index',\n",
       " 'insert',\n",
       " 'pop',\n",
       " 'remove',\n",
       " 'reverse',\n",
       " 'sort']"
      ]
     },
     "execution_count": 66,
     "metadata": {},
     "output_type": "execute_result"
    },
    {
     "ename": "",
     "evalue": "",
     "output_type": "error",
     "traceback": [
      "\u001b[1;31m在目前儲存格或上一個儲存格中執行程式碼時，Kernel 已損毀。\n",
      "\u001b[1;31m請檢閱儲存格中的程式碼，找出失敗的可能原因。\n",
      "\u001b[1;31m如需詳細資訊，請按一下<a href='https://aka.ms/vscodeJupyterKernelCrash'>這裡</a>。\n",
      "\u001b[1;31m如需詳細資料，請檢視 Jupyter <a href='command:jupyter.viewOutput'>記錄</a>。"
     ]
    }
   ],
   "source": [
    "dir(list)\n"
   ]
  }
 ],
 "metadata": {
  "kernelspec": {
   "display_name": "mlenvgpu",
   "language": "python",
   "name": "python3"
  },
  "language_info": {
   "codemirror_mode": {
    "name": "ipython",
    "version": 3
   },
   "file_extension": ".py",
   "mimetype": "text/x-python",
   "name": "python",
   "nbconvert_exporter": "python",
   "pygments_lexer": "ipython3",
   "version": "3.10.11"
  }
 },
 "nbformat": 4,
 "nbformat_minor": 5
}
