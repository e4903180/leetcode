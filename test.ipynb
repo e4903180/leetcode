{
 "cells": [
  {
   "cell_type": "code",
   "execution_count": null,
   "id": "ecae3ffa",
   "metadata": {},
   "outputs": [
    {
     "name": "stdout",
     "output_type": "stream",
     "text": [
      "Rename: 121_Best_Timeto_Buyand_Sell_Stock.cpp -> 121_best_timeto_buyand_sell_stock.cpp\n",
      "Rename: 125_Valid_Palindrome.cpp -> 125_valid_palindrome.cpp\n",
      "Rename: 1295_Find_Numbers_With_Even_Number_Of_Digits.cpp -> 1295_find_numbers_with_even_number_of_digits.cpp\n",
      "Rename: 1342_Number_Of_Steps_To_Reduce_Number_To_Zero.cpp -> 1342_number_of_steps_to_reduce_number_to_zero.cpp\n",
      "Rename: 141_Linked_List_Cycle.cpp -> 141_linked_list_cycle.cpp\n",
      "Rename: 143_Reorder_List.cpp -> 143_reorder_list.cpp\n",
      "Rename: 1480_Running_Sum_Of_1_Array.cpp -> 1480_running_sum_of_1_array.cpp\n",
      "Rename: 169_Majority_Element.cpp -> 169_majority_element.cpp\n",
      "Rename: 1920_Build_Array_From_Permutation.cpp -> 1920_build_array_from_permutation.cpp\n",
      "Rename: 19_Remove_Nth_Node_From_End_Of_List.cpp -> 19_remove_nth_node_from_end_of_list.cpp\n",
      "Rename: 206_Reverse_Linked_List.cpp -> 206_reverse_linked_list.cpp\n",
      "Rename: 20_Valid_Parentheses.cpp -> 20_valid_parentheses.cpp\n",
      "Rename: 217_Contains_Duplicate.cpp -> 217_contains_duplicate.cpp\n",
      "Rename: 21_Merge_Two_Sorted_Lists.cpp -> 21_merge_two_sorted_lists.cpp\n",
      "Rename: 242_Valid_Anagram.cpp -> 242_valid_anagram.cpp\n",
      "Rename: 24_Remove_Element.cpp -> 24_remove_element.cpp\n",
      "Rename: 268_Missing_Number.cpp -> 268_missing_number.cpp\n",
      "Rename: 26_Remove_Duplicates.cpp -> 26_remove_duplicates.cpp\n",
      "Rename: 283_Move_Zeroes.cpp -> 283_move_zeroes.cpp\n",
      "Rename: 28_Find_The_Index_Of_The_First_Occurrence_In_String.cpp -> 28_find_the_index_of_the_first_occurrence_in_string.cpp\n",
      "Rename: 344_Reverse_String.cpp -> 344_reverse_string.cpp\n",
      "Rename: 424_Longest_Repeating_Character_Replacement.cpp -> 424_longest_repeating_character_replacement.cpp\n",
      "Rename: 49_Group_Anagrams.cpp -> 49_group_anagrams.cpp\n",
      "Rename: 541_Reverse_Str.cpp -> 541_reverse_str.cpp\n",
      "Rename: 56_Merge_Intervals.cpp -> 56_merge_intervals.cpp\n",
      "Rename: 704_Binary_Search.cpp -> 704_binary_search.cpp\n",
      "Rename: 724_Find_Pivot_Index.cpp -> 724_find_pivot_index.cpp\n",
      "Rename: Dedign_Binary_Tree_Using_Link_Nodes.cpp -> dedign_binary_tree_using_link_nodes.cpp\n",
      "Rename: Design_Double_Linked_List.cpp -> design_double_linked_list.cpp\n",
      "Rename: Design_Dynamic_Array_Resizable_Array.cpp -> design_dynamic_array_resizable_array.cpp\n",
      "Rename: Design_Queue.cpp -> design_queue.cpp\n",
      "Rename: Design_Single_Linked_List.cpp -> design_single_linked_list.cpp\n",
      "Rename: Design_Stack.cpp -> design_stack.cpp\n",
      "Rename: Lined_List_Pratice.cpp -> lined_list_pratice.cpp\n",
      "Rename: Replace_Number.cpp -> replace_number.cpp\n"
     ]
    },
    {
     "ename": "",
     "evalue": "",
     "output_type": "error",
     "traceback": [
      "\u001b[1;31m在目前儲存格或上一個儲存格中執行程式碼時，Kernel 已損毀。\n",
      "\u001b[1;31m請檢閱儲存格中的程式碼，找出失敗的可能原因。\n",
      "\u001b[1;31m如需詳細資訊，請按一下<a href='https://aka.ms/vscodeJupyterKernelCrash'>這裡</a>。\n",
      "\u001b[1;31m如需詳細資料，請檢視 Jupyter <a href='command:jupyter.viewOutput'>記錄</a>。"
     ]
    }
   ],
   "source": [
    "import os\n",
    "import re\n",
    "\n",
    "def to_snake_case(name: str) -> str:\n",
    "    # 把大寫變小寫並用底線分隔單字\n",
    "    # ex: \"LongestConsecutiveSequence\" -> \"longest_consecutive_sequence\"\n",
    "    s1 = re.sub('(.)([A-Z][a-z]+)', r'\\1_\\2', name)\n",
    "    s2 = re.sub('([a-z0-9])([A-Z])', r'\\1_\\2', s1)\n",
    "    s2 = s2.replace('-', '_').replace(' ', '_')\n",
    "    s2 = re.sub('_+', '_', s2)  # 多重底線變1個\n",
    "    return s2.lower()\n",
    "\n",
    "def rename_files(folder_path):\n",
    "    for filename in os.listdir(folder_path):\n",
    "        if not os.path.isfile(os.path.join(folder_path, filename)):\n",
    "            continue\n",
    "        name, ext = os.path.splitext(filename)\n",
    "\n",
    "        # 嘗試找題號，格式如 \"123_\", \"001-\" 開頭\n",
    "        m = re.match(r'^(\\d+)[-_]?(.*)$', name)\n",
    "        if m:\n",
    "            number = m.group(1)\n",
    "            rest = m.group(2)\n",
    "            rest_snake = to_snake_case(rest)\n",
    "            new_name = f\"{number}_{rest_snake}{ext}\"\n",
    "        else:\n",
    "            # 沒有題號，全部轉 snake case\n",
    "            new_name = to_snake_case(name) + ext\n",
    "\n",
    "        # 只改名字不同才執行 rename\n",
    "        if new_name != filename:\n",
    "            src = os.path.join(folder_path, filename)\n",
    "            dst = os.path.join(folder_path, new_name)\n",
    "            print(f\"Rename: {filename} -> {new_name}\")\n",
    "            os.rename(src, dst)\n",
    "\n",
    "if __name__ == \"__main__\":\n",
    "    folder = \"./\"  # 你要改的資料夾路徑（改成你自己的）\n",
    "    rename_files(folder)\n"
   ]
  }
 ],
 "metadata": {
  "kernelspec": {
   "display_name": "mlenvgpu",
   "language": "python",
   "name": "python3"
  },
  "language_info": {
   "codemirror_mode": {
    "name": "ipython",
    "version": 3
   },
   "file_extension": ".py",
   "mimetype": "text/x-python",
   "name": "python",
   "nbconvert_exporter": "python",
   "pygments_lexer": "ipython3",
   "version": "3.10.11"
  }
 },
 "nbformat": 4,
 "nbformat_minor": 5
}
