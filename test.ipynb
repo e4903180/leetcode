{
 "cells": [
  {
   "cell_type": "code",
   "execution_count": null,
   "id": "ecae3ffa",
   "metadata": {},
   "outputs": [
    {
     "name": "stdout",
     "output_type": "stream",
     "text": [
      "Rename: 102_binary Tree Level Order Traversal.cpp -> 102_binary_tree_level_order_traversal.cpp\n"
     ]
    },
    {
     "ename": "",
     "evalue": "",
     "output_type": "error",
     "traceback": [
      "\u001b[1;31m在目前儲存格或上一個儲存格中執行程式碼時，Kernel 已損毀。\n",
      "\u001b[1;31m請檢閱儲存格中的程式碼，找出失敗的可能原因。\n",
      "\u001b[1;31m如需詳細資訊，請按一下<a href='https://aka.ms/vscodeJupyterKernelCrash'>這裡</a>。\n",
      "\u001b[1;31m如需詳細資料，請檢視 Jupyter <a href='command:jupyter.viewOutput'>記錄</a>。"
     ]
    }
   ],
   "source": [
    "import os\n",
    "import re\n",
    "\n",
    "def to_snake_case(name: str) -> str:\n",
    "    # 把大寫變小寫並用底線分隔單字\n",
    "    # ex: \"LongestConsecutiveSequence\" -> \"longest_consecutive_sequence\"\n",
    "    s1 = re.sub('(.)([A-Z][a-z]+)', r'\\1_\\2', name)\n",
    "    s2 = re.sub('([a-z0-9])([A-Z])', r'\\1_\\2', s1)\n",
    "    s2 = s2.replace('-', '_').replace(' ', '_')\n",
    "    s2 = re.sub('_+', '_', s2)  # 多重底線變1個\n",
    "    return s2.lower()\n",
    "\n",
    "def rename_files(folder_path):\n",
    "    for filename in os.listdir(folder_path):\n",
    "        if not os.path.isfile(os.path.join(folder_path, filename)):\n",
    "            continue\n",
    "        name, ext = os.path.splitext(filename)\n",
    "\n",
    "        # 嘗試找題號，格式如 \"123_\", \"001-\" 開頭\n",
    "        m = re.match(r'^(\\d+)[-_]?(.*)$', name)\n",
    "        if m:\n",
    "            number = m.group(1)\n",
    "            rest = m.group(2)\n",
    "            rest_snake = to_snake_case(rest)\n",
    "            new_name = f\"{number}_{rest_snake}{ext}\"\n",
    "        else:\n",
    "            # 沒有題號，全部轉 snake case\n",
    "            new_name = to_snake_case(name) + ext\n",
    "\n",
    "        # 只改名字不同才執行 rename\n",
    "        if new_name != filename:\n",
    "            src = os.path.join(folder_path, filename)\n",
    "            dst = os.path.join(folder_path, new_name)\n",
    "            print(f\"Rename: {filename} -> {new_name}\")\n",
    "            os.rename(src, dst)\n",
    "\n",
    "if __name__ == \"__main__\":\n",
    "    folder = \"./\"  # 你要改的資料夾路徑（改成你自己的）\n",
    "    rename_files(folder)\n"
   ]
  }
 ],
 "metadata": {
  "kernelspec": {
   "display_name": "mlenvgpu",
   "language": "python",
   "name": "python3"
  },
  "language_info": {
   "codemirror_mode": {
    "name": "ipython",
    "version": 3
   },
   "file_extension": ".py",
   "mimetype": "text/x-python",
   "name": "python",
   "nbconvert_exporter": "python",
   "pygments_lexer": "ipython3",
   "version": "3.10.11"
  }
 },
 "nbformat": 4,
 "nbformat_minor": 5
}
